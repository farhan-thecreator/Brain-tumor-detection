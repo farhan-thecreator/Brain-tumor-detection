{
  "nbformat": 4,
  "nbformat_minor": 0,
  "metadata": {
    "colab": {
      "provenance": []
    },
    "kernelspec": {
      "name": "python3",
      "display_name": "Python 3"
    },
    "language_info": {
      "name": "python"
    }
  },
  "cells": [
    {
      "cell_type": "code",
      "execution_count": 1,
      "metadata": {
        "colab": {
          "base_uri": "https://localhost:8080/"
        },
        "id": "8x_6jkufz3uK",
        "outputId": "1d63e967-817e-404e-803a-cc4552921fdc"
      },
      "outputs": [
        {
          "output_type": "stream",
          "name": "stdout",
          "text": [
            "\u001b[?25l   \u001b[90m━━━━━━━━━━━━━━━━━━━━━━━━━━━━━━━━━━━━━━━━\u001b[0m \u001b[32m0.0/702.3 kB\u001b[0m \u001b[31m?\u001b[0m eta \u001b[36m-:--:--\u001b[0m\r\u001b[2K   \u001b[91m━━━━━━━━━━━\u001b[0m\u001b[91m╸\u001b[0m\u001b[90m━━━━━━━━━━━━━━━━━━━━━━━━━━━━\u001b[0m \u001b[32m204.8/702.3 kB\u001b[0m \u001b[31m5.9 MB/s\u001b[0m eta \u001b[36m0:00:01\u001b[0m\r\u001b[2K   \u001b[91m━━━━━━━━━━━━━━━━━━━━━━━━━━━━━━━━━━━━━━━\u001b[0m\u001b[91m╸\u001b[0m \u001b[32m696.3/702.3 kB\u001b[0m \u001b[31m11.8 MB/s\u001b[0m eta \u001b[36m0:00:01\u001b[0m\r\u001b[2K   \u001b[90m━━━━━━━━━━━━━━━━━━━━━━━━━━━━━━━━━━━━━━━━\u001b[0m \u001b[32m702.3/702.3 kB\u001b[0m \u001b[31m9.1 MB/s\u001b[0m eta \u001b[36m0:00:00\u001b[0m\n",
            "\u001b[?25h"
          ]
        }
      ],
      "source": [
        "!pip install python-telegram-bot --quiet\n",
        "!pip install opencv-python --quiet\n"
      ]
    },
    {
      "cell_type": "code",
      "source": [
        "from google.colab import files\n",
        "uploaded = files.upload()\n"
      ],
      "metadata": {
        "id": "hVq5f04d6MRY"
      },
      "execution_count": null,
      "outputs": []
    },
    {
      "cell_type": "code",
      "source": [
        "TELEGRAM_TOKEN = 'YOUR_BOT_TOKEN_HERE'  # Replace this!\n"
      ],
      "metadata": {
        "id": "xbGY-BhZ6O3H"
      },
      "execution_count": null,
      "outputs": []
    },
    {
      "cell_type": "code",
      "source": [
        "import cv2\n",
        "import numpy as np\n",
        "import tensorflow as tf\n",
        "from telegram import Update\n",
        "from telegram.ext import ApplicationBuilder, MessageHandler, filters, ContextTypes\n",
        "\n",
        "# Load model\n",
        "model = tf.keras.models.load_model(\"brain_tumor_model.h5\")  # or .keras\n",
        "IMG_SIZE = 128\n",
        "labels = [\"glioma\", \"meningioma\", \"pituitary\", \"notumor\"]\n",
        "\n",
        "# Preprocess image\n",
        "def preprocess_image(image_path):\n",
        "    img = cv2.imread(image_path, cv2.IMREAD_GRAYSCALE)\n",
        "    img = cv2.resize(img, (IMG_SIZE, IMG_SIZE))\n",
        "    img = img / 255.0\n",
        "    img = img.reshape(1, IMG_SIZE, IMG_SIZE, 1)\n",
        "    return img\n",
        "\n",
        "# Handle image messages\n",
        "async def handle_image(update: Update, context: ContextTypes.DEFAULT_TYPE):\n",
        "    photo = await update.message.photo[-1].get_file()\n",
        "    photo_path = await photo.download_to_drive()\n",
        "    img = preprocess_image(photo_path)\n",
        "    prediction = model.predict(img)[0]\n",
        "    predicted_label = labels[np.argmax(prediction)]\n",
        "    confidence = round(np.max(prediction) * 100, 2)\n",
        "\n",
        "    await update.message.reply_text(\n",
        "        f\"🧠 Prediction: *{predicted_label.capitalize()}*\\n🔍 Confidence: *{confidence}%*\",\n",
        "        parse_mode=\"Markdown\"\n",
        "    )\n",
        "\n",
        "# Build bot\n",
        "app = ApplicationBuilder().token(TELEGRAM_TOKEN).build()\n",
        "app.add_handler(MessageHandler(filters.PHOTO, handle_image))\n",
        "\n",
        "# Start bot (in Colab-safe way)\n",
        "import nest_asyncio\n",
        "nest_asyncio.apply()\n",
        "await app.run_polling()\n"
      ],
      "metadata": {
        "id": "avn4_7uw6Rxs"
      },
      "execution_count": null,
      "outputs": []
    }
  ]
}